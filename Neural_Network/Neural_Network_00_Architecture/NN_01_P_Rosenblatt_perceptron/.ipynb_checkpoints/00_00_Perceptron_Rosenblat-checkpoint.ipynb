{
 "cells": [
  {
   "cell_type": "markdown",
   "metadata": {},
   "source": [
    "# Rosenblat perceptron\n",
    "\n",
    "Teher are many ways of implementation the model of artificial neurons in Rosenblatt perceptron model (1957).\n",
    "It may be called Linear Threshold Unit (LTU). It is the simplest neural network.\n",
    "Formula: \n",
    "\n",
    "$y = f(h)$ \n",
    "\n",
    "where: \n",
    "$h = \\sum_i w_i x_i +b + O$ and $O$ may be equal to bias.\n",
    "\n",
    "And we will base our next actions on $y$."
   ]
  },
  {
   "cell_type": "markdown",
   "metadata": {},
   "source": [
    "## Artificial neuron vs Perceptron\n",
    "Main difference between perceptron and artificial neuron is that perceptron activation function may be discontinuous step function what mean that function f(s) bipolar (-1 or 1 on output) or unipolar (0 or 1 on output), or similar like 1 for $s < 0$, 0 for $s > 1$ and s in other cases. \n",
    "\n",
    "Also, it is a matter of concept. You can think about it like that:\n",
    "\n",
    "Perception is a construction and the neuron is a brick you use to build it. \n",
    "\n",
    "It may be one brick construction or multilevel multi-brick construct. For that reason, the concept of an artificial neuron does not describe mechanisms that describe the correlation between neurons (except simple input/output correlation) like backpropagation."
   ]
  },
  {
   "cell_type": "markdown",
   "metadata": {},
   "source": [
    "# First step: getting input and correct output\n",
    "Rosenblatt perceptron gets on start inputs, weights and bias. Inputs may be different in \"lifetime\", weights will change in process of learning of artificial neuron and we can change the bias to make corrections if we see the learning process is not going right.\n",
    "\n",
    "We will try to create a perceptron that will get as input a pair of the digits that can have value 0 or 1. On output, it will give us logical AND based on input."
   ]
  },
  {
   "cell_type": "code",
   "execution_count": 25,
   "metadata": {},
   "outputs": [],
   "source": [
    "import pandas as pd\n",
    "\n",
    "# Set input_1, input_2, and bias\n",
    "input_1 = 1\n",
    "input_2 = 1\n",
    "output = None"
   ]
  },
  {
   "cell_type": "markdown",
   "metadata": {},
   "source": [
    "# Second step: setting weights and bias"
   ]
  },
  {
   "cell_type": "code",
   "execution_count": 51,
   "metadata": {},
   "outputs": [],
   "source": [
    "# Set weight_for_1_input, weight_for_2_input, and bias\n",
    "weight_for_1_input = 1.0\n",
    "weight_for_2_input = 0.5\n",
    "bias = -1.5"
   ]
  },
  {
   "cell_type": "markdown",
   "metadata": {},
   "source": [
    "# Third step: add up everything!"
   ]
  },
  {
   "cell_type": "code",
   "execution_count": 52,
   "metadata": {},
   "outputs": [],
   "source": [
    "linear_combination = (weight_of_1_input * input_1) + (weight_of_2_input * input_2) + bias"
   ]
  },
  {
   "cell_type": "markdown",
   "metadata": {},
   "source": [
    "# Four-step: activation function"
   ]
  },
  {
   "cell_type": "code",
   "execution_count": 53,
   "metadata": {},
   "outputs": [
    {
     "data": {
      "text/plain": [
       "1"
      ]
     },
     "execution_count": 53,
     "metadata": {},
     "output_type": "execute_result"
    }
   ],
   "source": [
    "output = int(linear_combination >= 0)\n",
    "output"
   ]
  },
  {
   "cell_type": "markdown",
   "metadata": {},
   "source": [
    "# Five-step: interpret results"
   ]
  },
  {
   "cell_type": "code",
   "execution_count": 54,
   "metadata": {},
   "outputs": [
    {
     "name": "stdout",
     "output_type": "stream",
     "text": [
      "Correct weights for 1,1 input!\n"
     ]
    }
   ],
   "source": [
    "if output == 1:\n",
    "    print('Correct weights for 1,1 input!')\n",
    "else: \n",
    "    print('Incorrect weights for 1,1 input. Try again.')"
   ]
  },
  {
   "cell_type": "markdown",
   "metadata": {},
   "source": [
    "# AND example with multiple inputs"
   ]
  },
  {
   "cell_type": "code",
   "execution_count": 60,
   "metadata": {},
   "outputs": [
    {
     "name": "stdout",
     "output_type": "stream",
     "text": [
      " Input 1    Input 2    Linear Combination    Activation Output   Is Correct\n",
      "       0          0                  -1.5                    0          Yes\n",
      "       0          1                  -1.0                    0          Yes\n",
      "       1          0                  -0.5                    0          Yes\n",
      "       1          1                   0.0                    1          Yes\n"
     ]
    }
   ],
   "source": [
    "import pandas as pd\n",
    "import numpy as np\n",
    "\n",
    "# Inputs and outputs.\n",
    "inputs = [(0, 0), (0, 1), (1, 0), (1, 1)]\n",
    "# Correct answers to show if we correctly set weights and bias.\n",
    "correct_outputs = [False, False, False, True]  \n",
    "outputs = []\n",
    "\n",
    "# Set weights, and bias.\n",
    "weights = [1.0, 0.5]\n",
    "bias = -1.5\n",
    "\n",
    "# Generate and check output.\n",
    "for test_input, correct_output in zip(inputs, correct_outputs):\n",
    "    # Counting linear combination for input\n",
    "    linear_combination = np.dot(test_input, weights) + bias\n",
    "    \n",
    "    # Counting output/activation value.\n",
    "    output = int(linear_combination >= 0)\n",
    "    \n",
    "    # Check if output is correct (same as expected output).\n",
    "    if output == correct_output:\n",
    "        is_correct_string = 'Yes' \n",
    "    else: \n",
    "        is_correct_string = 'No'\n",
    "        \n",
    "    # Add everything to generall output. \n",
    "    outputs.append([test_input[0], test_input[1], linear_combination, output, is_correct_string])\n",
    "\n",
    "# Printing output.\n",
    "output_frame = pd.DataFrame(outputs, columns=['Input 1', '  Input 2', '  Linear Combination', '  Activation Output', '  Is Correct'])\n",
    "print(output_frame.to_string(index=False))\n"
   ]
  },
  {
   "cell_type": "code",
   "execution_count": null,
   "metadata": {},
   "outputs": [],
   "source": []
  }
 ],
 "metadata": {
  "kernelspec": {
   "display_name": "Python [conda env:data]",
   "language": "python",
   "name": "conda-env-data-py"
  },
  "language_info": {
   "codemirror_mode": {
    "name": "ipython",
    "version": 3
   },
   "file_extension": ".py",
   "mimetype": "text/x-python",
   "name": "python",
   "nbconvert_exporter": "python",
   "pygments_lexer": "ipython3",
   "version": "3.7.9"
  }
 },
 "nbformat": 4,
 "nbformat_minor": 4
}
