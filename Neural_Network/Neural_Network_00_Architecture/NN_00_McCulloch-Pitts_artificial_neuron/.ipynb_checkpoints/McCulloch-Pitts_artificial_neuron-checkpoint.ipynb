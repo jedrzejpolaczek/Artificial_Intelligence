{
 "cells": [
  {
   "cell_type": "markdown",
   "metadata": {},
   "source": [
    "# McCulloch-Pitts artificial neuron\n",
    "Below matirials are based on Stephen Marsland; \"Machine Learning : an algorithmic perspective\", Leszek Rutkowski; \"Meyody i techniki sztucznej inteligencji\" and https://en.wikipedia.org/wiki/Artificial_neuron.\n",
    "\n",
    "The are many ways of implementation the model of McCulloch-Pitts threshold neuron (1943). \n",
    "Idea is to sum up all inputs multiply by weights add bias and give it as output.\n",
    "Formula:\n",
    "\n",
    "$y = f(s)$\n",
    "\n",
    "where: \n",
    "\n",
    "s = bias + dot(inputs, weights)\n",
    "\n",
    "McCulloch-Pitts artificial neuron gets on start inputs, weights and bias.\n",
    "Inputs may be different in \"lifetime\", weights will change in process of learning of artificial neuron and we can change the bias to make corrections if we see the learning process is not going right.\n",
    "\n",
    "EXAMPLE:\n",
    "We can treat our input as a result of our answer on the test. 0 means we gave the wrong answer and 1 means our answer on the test was correct.\n",
    "We can treat weights as values for each question in test how importa. \n",
    "Also we can treat bias as a border below each we do not pass the students."
   ]
  },
  {
   "cell_type": "code",
   "execution_count": 33,
   "metadata": {},
   "outputs": [
    {
     "name": "stdout",
     "output_type": "stream",
     "text": [
      "Inputs:   [0, 0, 1, 1, 0]\n",
      "weights:  [10, -9, 7, 5]\n",
      "Bias:     1\n"
     ]
    }
   ],
   "source": [
    "inputs = [0, 0, 1, 1, 0]  # 0 for correct answer, 1 for wrong answer.\n",
    "weights = [10, -9, 7, 5]  # \"value\" of each question.\n",
    "bias = -1  # Value 0 is mathematically neutral in the equation.\n",
    "\n",
    "print(\"Inputs:  \",inputs)\n",
    "print(\"weights: \",weights)\n",
    "print(\"Bias:    \", bias)"
   ]
  },
  {
   "cell_type": "markdown",
   "metadata": {},
   "source": [
    "# First step: add up everything!\n",
    "## Multuply inputs by their weights\n",
    "Now we need to sum all the inputs multiplied by their weights. That sort of operation is scalar product (dot).\n",
    "\n",
    "What is scalar? It is a value by with we multiply vector. \n",
    "More info: https://en.wikipedia.org/wiki/Scalar_(mathematics)\n",
    "\n",
    "What is scalar product? It is a product of multiplication scalar and vector. \n",
    "More info: https://en.wikipedia.org/wiki/Inner_product_space"
   ]
  },
  {
   "cell_type": "code",
   "execution_count": 34,
   "metadata": {},
   "outputs": [
    {
     "data": {
      "text/plain": [
       "12"
      ]
     },
     "execution_count": 34,
     "metadata": {},
     "output_type": "execute_result"
    }
   ],
   "source": [
    "dot = sum([inputs[i] * weights[i] for i in range(len(weights))])\n",
    "dot"
   ]
  },
  {
   "cell_type": "markdown",
   "metadata": {},
   "source": [
    "## Add bias\n",
    "Our final step is in adding up everything is to add bias to dot (scalar product).\n",
    "Mathematically speaking we are counting $s$ in equation $y = f(s)$\n",
    "What is bias? Is a value we using to make an impact to sum.        \n",
    "More info: https://en.wikipedia.org/wiki/Bias_(statistics)"
   ]
  },
  {
   "cell_type": "code",
   "execution_count": 35,
   "metadata": {},
   "outputs": [
    {
     "data": {
      "text/plain": [
       "13"
      ]
     },
     "execution_count": 35,
     "metadata": {},
     "output_type": "execute_result"
    }
   ],
   "source": [
    "linear_combination = dot + bias\n",
    "linear_combination"
   ]
  },
  {
   "cell_type": "markdown",
   "metadata": {},
   "source": [
    "# Second step: calculate value of activation function\n",
    "Activation function also is named as transfer function or threshold function. Activation function can be linear or not.\n",
    "Mathematically speaking we are counting $y$ in equation $y = f(h)$ and $h = \\sum_i w_i x_i +b$\n",
    "\n",
    "In our example activation function will check if the sum of bias and scalar product of inputs and their weights is bigger then 10. We treat 10 as a border under which we do nota pass test."
   ]
  },
  {
   "cell_type": "code",
   "execution_count": 38,
   "metadata": {},
   "outputs": [
    {
     "data": {
      "text/plain": [
       "1"
      ]
     },
     "execution_count": 38,
     "metadata": {},
     "output_type": "execute_result"
    }
   ],
   "source": [
    "def activation_function(sum_of_products):\n",
    "        if sum_of_products >= 10:\n",
    "            return 1\n",
    "        else:\n",
    "            return 0\n",
    "\n",
    "output = activation_function(sum_of_products)\n",
    "output"
   ]
  },
  {
   "cell_type": "code",
   "execution_count": 39,
   "metadata": {},
   "outputs": [
    {
     "name": "stdout",
     "output_type": "stream",
     "text": [
      "Congratulation, we pass the test!\n"
     ]
    }
   ],
   "source": [
    "if output:\n",
    "    print(\"Congratulation, we pass the test!\")\n",
    "else:\n",
    "    print(\"Try next time!\")"
   ]
  },
  {
   "cell_type": "code",
   "execution_count": null,
   "metadata": {},
   "outputs": [],
   "source": []
  }
 ],
 "metadata": {
  "kernelspec": {
   "display_name": "Python 3",
   "language": "python",
   "name": "python3"
  },
  "language_info": {
   "codemirror_mode": {
    "name": "ipython",
    "version": 3
   },
   "file_extension": ".py",
   "mimetype": "text/x-python",
   "name": "python",
   "nbconvert_exporter": "python",
   "pygments_lexer": "ipython3",
   "version": "3.8.3"
  }
 },
 "nbformat": 4,
 "nbformat_minor": 4
}
